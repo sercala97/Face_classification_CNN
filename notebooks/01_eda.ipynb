{
 "cells": [
  {
   "cell_type": "markdown",
   "metadata": {},
   "source": [
    "#### Nombre: **01_eda**\n",
    "#### Autores: _Sergio Cañón  Laiz y Ignacio Ruiz de Zuazu Echavarría_\n",
    "#### CUNEF\n",
    "#### 15/01/2021"
   ]
  },
  {
   "cell_type": "code",
   "execution_count": 1,
   "metadata": {},
   "outputs": [],
   "source": [
    "import pandas as pd\n",
    "import numpy as np\n",
    "import matplotlib.pyplot as plt"
   ]
  },
  {
   "cell_type": "markdown",
   "metadata": {},
   "source": [
    "# Importación de tabla"
   ]
  },
  {
   "cell_type": "code",
   "execution_count": 2,
   "metadata": {},
   "outputs": [
    {
     "data": {
      "text/html": [
       "<div>\n",
       "<style scoped>\n",
       "    .dataframe tbody tr th:only-of-type {\n",
       "        vertical-align: middle;\n",
       "    }\n",
       "\n",
       "    .dataframe tbody tr th {\n",
       "        vertical-align: top;\n",
       "    }\n",
       "\n",
       "    .dataframe thead th {\n",
       "        text-align: right;\n",
       "    }\n",
       "</style>\n",
       "<table border=\"1\" class=\"dataframe\">\n",
       "  <thead>\n",
       "    <tr style=\"text-align: right;\">\n",
       "      <th></th>\n",
       "      <th>edad</th>\n",
       "      <th>sexo</th>\n",
       "      <th>raza</th>\n",
       "      <th>formato</th>\n",
       "      <th>filename</th>\n",
       "    </tr>\n",
       "  </thead>\n",
       "  <tbody>\n",
       "    <tr>\n",
       "      <th>0</th>\n",
       "      <td>100</td>\n",
       "      <td>male</td>\n",
       "      <td>White</td>\n",
       "      <td>jpg</td>\n",
       "      <td>100_0_0_20170112213500903.jpg</td>\n",
       "    </tr>\n",
       "    <tr>\n",
       "      <th>1</th>\n",
       "      <td>100</td>\n",
       "      <td>male</td>\n",
       "      <td>White</td>\n",
       "      <td>jpg</td>\n",
       "      <td>100_0_0_20170112215240346.jpg</td>\n",
       "    </tr>\n",
       "    <tr>\n",
       "      <th>2</th>\n",
       "      <td>100</td>\n",
       "      <td>female</td>\n",
       "      <td>White</td>\n",
       "      <td>jpg</td>\n",
       "      <td>100_1_0_20170110183726390.jpg</td>\n",
       "    </tr>\n",
       "    <tr>\n",
       "      <th>3</th>\n",
       "      <td>100</td>\n",
       "      <td>female</td>\n",
       "      <td>White</td>\n",
       "      <td>jpg</td>\n",
       "      <td>100_1_0_20170112213001988.jpg</td>\n",
       "    </tr>\n",
       "    <tr>\n",
       "      <th>4</th>\n",
       "      <td>100</td>\n",
       "      <td>female</td>\n",
       "      <td>White</td>\n",
       "      <td>jpg</td>\n",
       "      <td>100_1_0_20170112213303693.jpg</td>\n",
       "    </tr>\n",
       "    <tr>\n",
       "      <th>...</th>\n",
       "      <td>...</td>\n",
       "      <td>...</td>\n",
       "      <td>...</td>\n",
       "      <td>...</td>\n",
       "      <td>...</td>\n",
       "    </tr>\n",
       "    <tr>\n",
       "      <th>24100</th>\n",
       "      <td>9</td>\n",
       "      <td>female</td>\n",
       "      <td>Indian</td>\n",
       "      <td>jpg</td>\n",
       "      <td>9_1_3_20161220222856346.jpg</td>\n",
       "    </tr>\n",
       "    <tr>\n",
       "      <th>24101</th>\n",
       "      <td>9</td>\n",
       "      <td>female</td>\n",
       "      <td>Indian</td>\n",
       "      <td>jpg</td>\n",
       "      <td>9_1_3_20170104222949455.jpg</td>\n",
       "    </tr>\n",
       "    <tr>\n",
       "      <th>24102</th>\n",
       "      <td>9</td>\n",
       "      <td>female</td>\n",
       "      <td>Others</td>\n",
       "      <td>jpg</td>\n",
       "      <td>9_1_4_20170103200637399.jpg</td>\n",
       "    </tr>\n",
       "    <tr>\n",
       "      <th>24103</th>\n",
       "      <td>9</td>\n",
       "      <td>female</td>\n",
       "      <td>Others</td>\n",
       "      <td>jpg</td>\n",
       "      <td>9_1_4_20170103200814791.jpg</td>\n",
       "    </tr>\n",
       "    <tr>\n",
       "      <th>24104</th>\n",
       "      <td>9</td>\n",
       "      <td>female</td>\n",
       "      <td>Others</td>\n",
       "      <td>jpg</td>\n",
       "      <td>9_1_4_20170103213057382.jpg</td>\n",
       "    </tr>\n",
       "  </tbody>\n",
       "</table>\n",
       "<p>24099 rows × 5 columns</p>\n",
       "</div>"
      ],
      "text/plain": [
       "       edad    sexo    raza formato                       filename\n",
       "0       100    male   White     jpg  100_0_0_20170112213500903.jpg\n",
       "1       100    male   White     jpg  100_0_0_20170112215240346.jpg\n",
       "2       100  female   White     jpg  100_1_0_20170110183726390.jpg\n",
       "3       100  female   White     jpg  100_1_0_20170112213001988.jpg\n",
       "4       100  female   White     jpg  100_1_0_20170112213303693.jpg\n",
       "...     ...     ...     ...     ...                            ...\n",
       "24100     9  female  Indian     jpg    9_1_3_20161220222856346.jpg\n",
       "24101     9  female  Indian     jpg    9_1_3_20170104222949455.jpg\n",
       "24102     9  female  Others     jpg    9_1_4_20170103200637399.jpg\n",
       "24103     9  female  Others     jpg    9_1_4_20170103200814791.jpg\n",
       "24104     9  female  Others     jpg    9_1_4_20170103213057382.jpg\n",
       "\n",
       "[24099 rows x 5 columns]"
      ]
     },
     "execution_count": 2,
     "metadata": {},
     "output_type": "execute_result"
    }
   ],
   "source": [
    "#improtamos la tabal desde json\n",
    "\n",
    "data_eda = pd.read_json(r\"..\\data\\03_data_eda\\03_data_eda.json\")\n",
    "data_eda"
   ]
  },
  {
   "cell_type": "code",
   "execution_count": 3,
   "metadata": {},
   "outputs": [
    {
     "name": "stdout",
     "output_type": "stream",
     "text": [
      "<class 'pandas.core.frame.DataFrame'>\n",
      "Int64Index: 24099 entries, 0 to 24104\n",
      "Data columns (total 5 columns):\n",
      " #   Column    Non-Null Count  Dtype \n",
      "---  ------    --------------  ----- \n",
      " 0   edad      24099 non-null  int64 \n",
      " 1   sexo      24099 non-null  object\n",
      " 2   raza      24099 non-null  object\n",
      " 3   formato   24099 non-null  object\n",
      " 4   filename  24099 non-null  object\n",
      "dtypes: int64(1), object(4)\n",
      "memory usage: 1.1+ MB\n"
     ]
    }
   ],
   "source": [
    "data_eda.info()"
   ]
  },
  {
   "cell_type": "markdown",
   "metadata": {},
   "source": [
    "# Edad"
   ]
  },
  {
   "cell_type": "code",
   "execution_count": 14,
   "metadata": {},
   "outputs": [
    {
     "data": {
      "text/plain": [
       "Text(0.5, 1.0, 'Distribución edades')"
      ]
     },
     "execution_count": 14,
     "metadata": {},
     "output_type": "execute_result"
    },
    {
     "data": {
      "image/png": "[encoded data removed]",
      "text/plain": [
       "<Figure size 1440x720 with 1 Axes>"
      ]
     },
     "metadata": {
      "needs_background": "light"
     },
     "output_type": "display_data"
    }
   ],
   "source": [
    "# An \"interface\" to matplotlib.axes.Axes.hist() method\n",
    "\n",
    "plt.figure(figsize=(20,10))\n",
    "\n",
    "n, bins, patches = plt.hist(x=data_eda.edad, bins=116, color='#0504aa',\n",
    "                            alpha=0.7, rwidth=0.85)\n",
    "plt.grid(axis='y', alpha=0.75)\n",
    "plt.xlabel('Edad')\n",
    "plt.ylabel('Frequency')\n",
    "plt.title('Distribución edades')"
   ]
  },
  {
   "cell_type": "code",
   "execution_count": 15,
   "metadata": {},
   "outputs": [
    {
     "data": {
      "text/plain": [
       "array([  1.,  19.,  26.,  34.,  50., 116.])"
      ]
     },
     "execution_count": 15,
     "metadata": {},
     "output_type": "execute_result"
    }
   ],
   "source": [
    "#al ver que la distribución de las edades no es uniforme, realizo una separación por percentiles\n",
    "\n",
    "np.percentile(data_eda.edad, [0,20,40,60,80,100])\n"
   ]
  },
  {
   "cell_type": "markdown",
   "metadata": {},
   "source": [
    "# Raza"
   ]
  },
  {
   "cell_type": "code",
   "execution_count": 7,
   "metadata": {},
   "outputs": [
    {
     "data": {
      "text/plain": [
       "Text(0.5, 1.0, 'Distribución razas')"
      ]
     },
     "execution_count": 7,
     "metadata": {},
     "output_type": "execute_result"
    },
    {
     "data": {
      "image/png": "[encoded data removed]",
      "text/plain": [
       "<Figure size 576x360 with 1 Axes>"
      ]
     },
     "metadata": {
      "needs_background": "light"
     },
     "output_type": "display_data"
    }
   ],
   "source": [
    "plt.figure(figsize=(8,5))\n",
    "\n",
    "# el data set se encuentra ligeramente desbalaceado hacia la raza blanca\n",
    "\n",
    "data_eda.raza.value_counts().plot(kind='bar', color='#0504aa',\n",
    "                            alpha=0.7)\n",
    "\n",
    "plt.grid(axis='y', alpha=0.75)\n",
    "plt.xlabel('Razas')\n",
    "plt.ylabel('Frequency')\n",
    "plt.title('Distribución razas')"
   ]
  },
  {
   "cell_type": "markdown",
   "metadata": {},
   "source": [
    "# Género"
   ]
  },
  {
   "cell_type": "code",
   "execution_count": 6,
   "metadata": {},
   "outputs": [
    {
     "data": {
      "text/plain": [
       "Text(0.5, 1.0, 'Distribución razas')"
      ]
     },
     "execution_count": 6,
     "metadata": {},
     "output_type": "execute_result"
    },
    {
     "data": {
      "image/png": "[encoded data removed]",
      "text/plain": [
       "<Figure size 576x360 with 1 Axes>"
      ]
     },
     "metadata": {
      "needs_background": "light"
     },
     "output_type": "display_data"
    }
   ],
   "source": [
    "plt.figure(figsize=(8,5))\n",
    "\n",
    "#datos bastante balanceados\n",
    "\n",
    "data_eda.sexo.value_counts().plot(kind='bar', color='#0504aa',\n",
    "                            alpha=0.7)\n",
    "plt.grid(axis='y', alpha=0.75)\n",
    "plt.xlabel('sexo')\n",
    "plt.ylabel('Frequency')\n",
    "plt.title('Distribución razas')"
   ]
  },
  {
   "cell_type": "code",
   "execution_count": null,
   "metadata": {},
   "outputs": [],
   "source": []
  },
  {
   "cell_type": "code",
   "execution_count": null,
   "metadata": {},
   "outputs": [],
   "source": []
  },
  {
   "cell_type": "code",
   "execution_count": null,
   "metadata": {},
   "outputs": [],
   "source": []
  },
  {
   "cell_type": "code",
   "execution_count": null,
   "metadata": {},
   "outputs": [],
   "source": []
  },
  {
   "cell_type": "code",
   "execution_count": null,
   "metadata": {},
   "outputs": [],
   "source": []
  }
 ],
 "metadata": {
  "kernelspec": {
   "display_name": "Python 3",
   "language": "python",
   "name": "python3"
  },
  "language_info": {
   "codemirror_mode": {
    "name": "ipython",
    "version": 3
   },
   "file_extension": ".py",
   "mimetype": "text/x-python",
   "name": "python",
   "nbconvert_exporter": "python",
   "pygments_lexer": "ipython3",
   "version": "3.8.3"
  }
 },
 "nbformat": 4,
 "nbformat_minor": 4
}
