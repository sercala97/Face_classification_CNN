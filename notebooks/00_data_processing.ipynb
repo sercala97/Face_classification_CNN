{
 "cells": [
  {
   "cell_type": "markdown",
   "metadata": {},
   "source": [
    "#### Nombre: **00_data_processing**\n",
    "#### Autores: _Sergio Cañón  Laiz y Ignacio Ruiz de Zuazu Echavarría_\n",
    "#### CUNEF\n",
    "#### 15/01/2021"
   ]
  },
  {
   "cell_type": "code",
   "execution_count": 2,
   "metadata": {},
   "outputs": [],
   "source": [
    "import pandas as pd\n",
    "import os"
   ]
  },
  {
   "cell_type": "markdown",
   "metadata": {},
   "source": [
    "## Creación pandas con nombre de los archivos"
   ]
  },
  {
   "cell_type": "markdown",
   "metadata": {},
   "source": [
    "El formato del los datos es el siguiente explicado con este ejemplo: 100_1_0_20170112213001988.jpg\n",
    "* 100 = edad\n",
    "* 1 = género mujer\n",
    "* 0 = raza blanca\n",
    "\n",
    "\"0\":\"White\",\n",
    "\"1\":\"Black\",\n",
    "\"2\":\"Asian\",\n",
    "\"3\":\"Indian\",\n",
    "\"4\":\"Others\""
   ]
  },
  {
   "cell_type": "code",
   "execution_count": 271,
   "metadata": {},
   "outputs": [],
   "source": [
    "files =[]"
   ]
  },
  {
   "cell_type": "code",
   "execution_count": 272,
   "metadata": {},
   "outputs": [],
   "source": [
    "files = pd.DataFrame(files)"
   ]
  },
  {
   "cell_type": "code",
   "execution_count": 273,
   "metadata": {},
   "outputs": [],
   "source": [
    "# importamos el nmbre de los archivos\n",
    "\n",
    "path = \"../data/01_raw/\" #imagenes raw\n",
    "files[\"filenames\"] = os.listdir(path)"
   ]
  },
  {
   "cell_type": "code",
   "execution_count": 274,
   "metadata": {},
   "outputs": [
    {
     "data": {
      "text/html": [
       "<div>\n",
       "<style scoped>\n",
       "    .dataframe tbody tr th:only-of-type {\n",
       "        vertical-align: middle;\n",
       "    }\n",
       "\n",
       "    .dataframe tbody tr th {\n",
       "        vertical-align: top;\n",
       "    }\n",
       "\n",
       "    .dataframe thead th {\n",
       "        text-align: right;\n",
       "    }\n",
       "</style>\n",
       "<table border=\"1\" class=\"dataframe\">\n",
       "  <thead>\n",
       "    <tr style=\"text-align: right;\">\n",
       "      <th></th>\n",
       "      <th>filenames</th>\n",
       "    </tr>\n",
       "  </thead>\n",
       "  <tbody>\n",
       "    <tr>\n",
       "      <th>0</th>\n",
       "      <td>100_0_0_20170112213500903.jpg</td>\n",
       "    </tr>\n",
       "    <tr>\n",
       "      <th>1</th>\n",
       "      <td>100_0_0_20170112215240346.jpg</td>\n",
       "    </tr>\n",
       "    <tr>\n",
       "      <th>2</th>\n",
       "      <td>100_1_0_20170110183726390.jpg</td>\n",
       "    </tr>\n",
       "    <tr>\n",
       "      <th>3</th>\n",
       "      <td>100_1_0_20170112213001988.jpg</td>\n",
       "    </tr>\n",
       "    <tr>\n",
       "      <th>4</th>\n",
       "      <td>100_1_0_20170112213303693.jpg</td>\n",
       "    </tr>\n",
       "    <tr>\n",
       "      <th>...</th>\n",
       "      <td>...</td>\n",
       "    </tr>\n",
       "    <tr>\n",
       "      <th>24100</th>\n",
       "      <td>9_1_3_20161220222856346.jpg</td>\n",
       "    </tr>\n",
       "    <tr>\n",
       "      <th>24101</th>\n",
       "      <td>9_1_3_20170104222949455.jpg</td>\n",
       "    </tr>\n",
       "    <tr>\n",
       "      <th>24102</th>\n",
       "      <td>9_1_4_20170103200637399.jpg</td>\n",
       "    </tr>\n",
       "    <tr>\n",
       "      <th>24103</th>\n",
       "      <td>9_1_4_20170103200814791.jpg</td>\n",
       "    </tr>\n",
       "    <tr>\n",
       "      <th>24104</th>\n",
       "      <td>9_1_4_20170103213057382.jpg</td>\n",
       "    </tr>\n",
       "  </tbody>\n",
       "</table>\n",
       "<p>24105 rows × 1 columns</p>\n",
       "</div>"
      ],
      "text/plain": [
       "                           filenames\n",
       "0      100_0_0_20170112213500903.jpg\n",
       "1      100_0_0_20170112215240346.jpg\n",
       "2      100_1_0_20170110183726390.jpg\n",
       "3      100_1_0_20170112213001988.jpg\n",
       "4      100_1_0_20170112213303693.jpg\n",
       "...                              ...\n",
       "24100    9_1_3_20161220222856346.jpg\n",
       "24101    9_1_3_20170104222949455.jpg\n",
       "24102    9_1_4_20170103200637399.jpg\n",
       "24103    9_1_4_20170103200814791.jpg\n",
       "24104    9_1_4_20170103213057382.jpg\n",
       "\n",
       "[24105 rows x 1 columns]"
      ]
     },
     "execution_count": 274,
     "metadata": {},
     "output_type": "execute_result"
    }
   ],
   "source": [
    "files"
   ]
  },
  {
   "cell_type": "markdown",
   "metadata": {},
   "source": [
    "## Parseado"
   ]
  },
  {
   "cell_type": "code",
   "execution_count": 275,
   "metadata": {},
   "outputs": [
    {
     "data": {
      "text/html": [
       "<div>\n",
       "<style scoped>\n",
       "    .dataframe tbody tr th:only-of-type {\n",
       "        vertical-align: middle;\n",
       "    }\n",
       "\n",
       "    .dataframe tbody tr th {\n",
       "        vertical-align: top;\n",
       "    }\n",
       "\n",
       "    .dataframe thead th {\n",
       "        text-align: right;\n",
       "    }\n",
       "</style>\n",
       "<table border=\"1\" class=\"dataframe\">\n",
       "  <thead>\n",
       "    <tr style=\"text-align: right;\">\n",
       "      <th></th>\n",
       "      <th>filenames</th>\n",
       "    </tr>\n",
       "  </thead>\n",
       "  <tbody>\n",
       "    <tr>\n",
       "      <th>0</th>\n",
       "      <td>100_0_0_20170112213500903.jpg</td>\n",
       "    </tr>\n",
       "    <tr>\n",
       "      <th>1</th>\n",
       "      <td>100_0_0_20170112215240346.jpg</td>\n",
       "    </tr>\n",
       "    <tr>\n",
       "      <th>2</th>\n",
       "      <td>100_1_0_20170110183726390.jpg</td>\n",
       "    </tr>\n",
       "    <tr>\n",
       "      <th>3</th>\n",
       "      <td>100_1_0_20170112213001988.jpg</td>\n",
       "    </tr>\n",
       "    <tr>\n",
       "      <th>4</th>\n",
       "      <td>100_1_0_20170112213303693.jpg</td>\n",
       "    </tr>\n",
       "    <tr>\n",
       "      <th>...</th>\n",
       "      <td>...</td>\n",
       "    </tr>\n",
       "    <tr>\n",
       "      <th>24100</th>\n",
       "      <td>9_1_3_20161220222856346.jpg</td>\n",
       "    </tr>\n",
       "    <tr>\n",
       "      <th>24101</th>\n",
       "      <td>9_1_3_20170104222949455.jpg</td>\n",
       "    </tr>\n",
       "    <tr>\n",
       "      <th>24102</th>\n",
       "      <td>9_1_4_20170103200637399.jpg</td>\n",
       "    </tr>\n",
       "    <tr>\n",
       "      <th>24103</th>\n",
       "      <td>9_1_4_20170103200814791.jpg</td>\n",
       "    </tr>\n",
       "    <tr>\n",
       "      <th>24104</th>\n",
       "      <td>9_1_4_20170103213057382.jpg</td>\n",
       "    </tr>\n",
       "  </tbody>\n",
       "</table>\n",
       "<p>24105 rows × 1 columns</p>\n",
       "</div>"
      ],
      "text/plain": [
       "                           filenames\n",
       "0      100_0_0_20170112213500903.jpg\n",
       "1      100_0_0_20170112215240346.jpg\n",
       "2      100_1_0_20170110183726390.jpg\n",
       "3      100_1_0_20170112213001988.jpg\n",
       "4      100_1_0_20170112213303693.jpg\n",
       "...                              ...\n",
       "24100    9_1_3_20161220222856346.jpg\n",
       "24101    9_1_3_20170104222949455.jpg\n",
       "24102    9_1_4_20170103200637399.jpg\n",
       "24103    9_1_4_20170103200814791.jpg\n",
       "24104    9_1_4_20170103213057382.jpg\n",
       "\n",
       "[24105 rows x 1 columns]"
      ]
     },
     "execution_count": 275,
     "metadata": {},
     "output_type": "execute_result"
    }
   ],
   "source": [
    "files"
   ]
  },
  {
   "cell_type": "code",
   "execution_count": 276,
   "metadata": {},
   "outputs": [],
   "source": [
    "sex_gender_race = pd.DataFrame(files[\"filenames\"].str.split(\"_\", n = 3, expand = True).iloc[:,0:3])\n",
    "formato = pd.DataFrame(files[\"filenames\"].str.split(\".\", expand = True)[1])"
   ]
  },
  {
   "cell_type": "code",
   "execution_count": 277,
   "metadata": {},
   "outputs": [],
   "source": [
    "data = pd.concat([sex_gender_race, formato, files[\"filenames\"] ], axis=1) "
   ]
  },
  {
   "cell_type": "code",
   "execution_count": 278,
   "metadata": {},
   "outputs": [
    {
     "data": {
      "text/html": [
       "<div>\n",
       "<style scoped>\n",
       "    .dataframe tbody tr th:only-of-type {\n",
       "        vertical-align: middle;\n",
       "    }\n",
       "\n",
       "    .dataframe tbody tr th {\n",
       "        vertical-align: top;\n",
       "    }\n",
       "\n",
       "    .dataframe thead th {\n",
       "        text-align: right;\n",
       "    }\n",
       "</style>\n",
       "<table border=\"1\" class=\"dataframe\">\n",
       "  <thead>\n",
       "    <tr style=\"text-align: right;\">\n",
       "      <th></th>\n",
       "      <th>edad</th>\n",
       "      <th>sexo</th>\n",
       "      <th>raza</th>\n",
       "      <th>formato</th>\n",
       "      <th>filename</th>\n",
       "    </tr>\n",
       "  </thead>\n",
       "  <tbody>\n",
       "    <tr>\n",
       "      <th>0</th>\n",
       "      <td>100</td>\n",
       "      <td>0</td>\n",
       "      <td>0</td>\n",
       "      <td>jpg</td>\n",
       "      <td>100_0_0_20170112213500903.jpg</td>\n",
       "    </tr>\n",
       "    <tr>\n",
       "      <th>1</th>\n",
       "      <td>100</td>\n",
       "      <td>0</td>\n",
       "      <td>0</td>\n",
       "      <td>jpg</td>\n",
       "      <td>100_0_0_20170112215240346.jpg</td>\n",
       "    </tr>\n",
       "    <tr>\n",
       "      <th>2</th>\n",
       "      <td>100</td>\n",
       "      <td>1</td>\n",
       "      <td>0</td>\n",
       "      <td>jpg</td>\n",
       "      <td>100_1_0_20170110183726390.jpg</td>\n",
       "    </tr>\n",
       "    <tr>\n",
       "      <th>3</th>\n",
       "      <td>100</td>\n",
       "      <td>1</td>\n",
       "      <td>0</td>\n",
       "      <td>jpg</td>\n",
       "      <td>100_1_0_20170112213001988.jpg</td>\n",
       "    </tr>\n",
       "    <tr>\n",
       "      <th>4</th>\n",
       "      <td>100</td>\n",
       "      <td>1</td>\n",
       "      <td>0</td>\n",
       "      <td>jpg</td>\n",
       "      <td>100_1_0_20170112213303693.jpg</td>\n",
       "    </tr>\n",
       "    <tr>\n",
       "      <th>...</th>\n",
       "      <td>...</td>\n",
       "      <td>...</td>\n",
       "      <td>...</td>\n",
       "      <td>...</td>\n",
       "      <td>...</td>\n",
       "    </tr>\n",
       "    <tr>\n",
       "      <th>24100</th>\n",
       "      <td>9</td>\n",
       "      <td>1</td>\n",
       "      <td>3</td>\n",
       "      <td>jpg</td>\n",
       "      <td>9_1_3_20161220222856346.jpg</td>\n",
       "    </tr>\n",
       "    <tr>\n",
       "      <th>24101</th>\n",
       "      <td>9</td>\n",
       "      <td>1</td>\n",
       "      <td>3</td>\n",
       "      <td>jpg</td>\n",
       "      <td>9_1_3_20170104222949455.jpg</td>\n",
       "    </tr>\n",
       "    <tr>\n",
       "      <th>24102</th>\n",
       "      <td>9</td>\n",
       "      <td>1</td>\n",
       "      <td>4</td>\n",
       "      <td>jpg</td>\n",
       "      <td>9_1_4_20170103200637399.jpg</td>\n",
       "    </tr>\n",
       "    <tr>\n",
       "      <th>24103</th>\n",
       "      <td>9</td>\n",
       "      <td>1</td>\n",
       "      <td>4</td>\n",
       "      <td>jpg</td>\n",
       "      <td>9_1_4_20170103200814791.jpg</td>\n",
       "    </tr>\n",
       "    <tr>\n",
       "      <th>24104</th>\n",
       "      <td>9</td>\n",
       "      <td>1</td>\n",
       "      <td>4</td>\n",
       "      <td>jpg</td>\n",
       "      <td>9_1_4_20170103213057382.jpg</td>\n",
       "    </tr>\n",
       "  </tbody>\n",
       "</table>\n",
       "<p>24105 rows × 5 columns</p>\n",
       "</div>"
      ],
      "text/plain": [
       "      edad sexo raza formato                       filename\n",
       "0      100    0    0     jpg  100_0_0_20170112213500903.jpg\n",
       "1      100    0    0     jpg  100_0_0_20170112215240346.jpg\n",
       "2      100    1    0     jpg  100_1_0_20170110183726390.jpg\n",
       "3      100    1    0     jpg  100_1_0_20170112213001988.jpg\n",
       "4      100    1    0     jpg  100_1_0_20170112213303693.jpg\n",
       "...    ...  ...  ...     ...                            ...\n",
       "24100    9    1    3     jpg    9_1_3_20161220222856346.jpg\n",
       "24101    9    1    3     jpg    9_1_3_20170104222949455.jpg\n",
       "24102    9    1    4     jpg    9_1_4_20170103200637399.jpg\n",
       "24103    9    1    4     jpg    9_1_4_20170103200814791.jpg\n",
       "24104    9    1    4     jpg    9_1_4_20170103213057382.jpg\n",
       "\n",
       "[24105 rows x 5 columns]"
      ]
     },
     "execution_count": 278,
     "metadata": {},
     "output_type": "execute_result"
    }
   ],
   "source": [
    "data.columns = ['edad', 'sexo','raza','formato','filename']\n",
    "data"
   ]
  },
  {
   "cell_type": "markdown",
   "metadata": {},
   "source": [
    "## Análisis de archivos"
   ]
  },
  {
   "cell_type": "markdown",
   "metadata": {},
   "source": [
    "El objetivo aquí es detectar posibles archivos mal escritos o con un formato incorrecto"
   ]
  },
  {
   "cell_type": "code",
   "execution_count": 279,
   "metadata": {},
   "outputs": [
    {
     "data": {
      "text/plain": [
       "array(['100', '101', '103', '105', '10', '110', '111', '115', '116', '11',\n",
       "       '12', '13', '14', '15', '16', '17', '18', '19', '1', '20', '21',\n",
       "       '22', '23', '24', '25', '26', '27', '28', '29', '2', '30', '31',\n",
       "       '32', '33', '34', '35', '36', '37', '38', '39', '3', '40', '41',\n",
       "       '42', '43', '44', '45', '46', '47', '48', '49', '4', '50', '51',\n",
       "       '52', '53', '54', '55', '56', '57', '58', '59', '5', '60', '61',\n",
       "       '62', '63', '64', '65', '66', '67', '68', '69', '6', '70', '71',\n",
       "       '72', '73', '74', '75', '76', '77', '78', '79', '7', '80', '81',\n",
       "       '82', '83', '84', '85', '86', '87', '88', '89', '8', '90', '91',\n",
       "       '92', '93', '95', '96', '99', '9'], dtype=object)"
      ]
     },
     "execution_count": 279,
     "metadata": {},
     "output_type": "execute_result"
    }
   ],
   "source": [
    "data.edad.unique()"
   ]
  },
  {
   "cell_type": "code",
   "execution_count": 280,
   "metadata": {},
   "outputs": [
    {
     "data": {
      "text/plain": [
       "array(['0', '1', '', '3'], dtype=object)"
      ]
     },
     "execution_count": 280,
     "metadata": {},
     "output_type": "execute_result"
    }
   ],
   "source": [
    "data.sexo.unique()"
   ]
  },
  {
   "cell_type": "code",
   "execution_count": 281,
   "metadata": {},
   "outputs": [
    {
     "data": {
      "text/plain": [
       "array(['0', '2', '1', '3', '4', '20170116174525125.jpg',\n",
       "       '20170109142408075.jpg', '20170109150557335.jpg'], dtype=object)"
      ]
     },
     "execution_count": 281,
     "metadata": {},
     "output_type": "execute_result"
    }
   ],
   "source": [
    "data.raza.unique()"
   ]
  },
  {
   "cell_type": "code",
   "execution_count": 282,
   "metadata": {},
   "outputs": [
    {
     "data": {
      "text/plain": [
       "array(['jpg', 'pg', None], dtype=object)"
      ]
     },
     "execution_count": 282,
     "metadata": {},
     "output_type": "execute_result"
    }
   ],
   "source": [
    "data.formato.unique()"
   ]
  },
  {
   "cell_type": "markdown",
   "metadata": {},
   "source": [
    "Detectamos incongrucencias: en primer lugar, que haya un género \"3\" y que haya un dato como espacio en blanco. En cuanto a la raza, hay 5 tipos diferentes y 3 valores con error que podrían estar relacionados con lo anterior. Por último, hay varios formatos de archivos que nos pueden general problemas."
   ]
  },
  {
   "cell_type": "markdown",
   "metadata": {},
   "source": [
    "## Detección de datos erróneos"
   ]
  },
  {
   "cell_type": "markdown",
   "metadata": {},
   "source": [
    "### sexo"
   ]
  },
  {
   "cell_type": "code",
   "execution_count": 283,
   "metadata": {},
   "outputs": [
    {
     "data": {
      "text/html": [
       "<div>\n",
       "<style scoped>\n",
       "    .dataframe tbody tr th:only-of-type {\n",
       "        vertical-align: middle;\n",
       "    }\n",
       "\n",
       "    .dataframe tbody tr th {\n",
       "        vertical-align: top;\n",
       "    }\n",
       "\n",
       "    .dataframe thead th {\n",
       "        text-align: right;\n",
       "    }\n",
       "</style>\n",
       "<table border=\"1\" class=\"dataframe\">\n",
       "  <thead>\n",
       "    <tr style=\"text-align: right;\">\n",
       "      <th></th>\n",
       "      <th>edad</th>\n",
       "      <th>sexo</th>\n",
       "      <th>raza</th>\n",
       "      <th>formato</th>\n",
       "      <th>filename</th>\n",
       "    </tr>\n",
       "  </thead>\n",
       "  <tbody>\n",
       "    <tr>\n",
       "      <th>19143</th>\n",
       "      <td>53</td>\n",
       "      <td></td>\n",
       "      <td>0</td>\n",
       "      <td>jpg</td>\n",
       "      <td>53__0_20170116184028385.jpg</td>\n",
       "    </tr>\n",
       "  </tbody>\n",
       "</table>\n",
       "</div>"
      ],
      "text/plain": [
       "      edad sexo raza formato                     filename\n",
       "19143   53         0     jpg  53__0_20170116184028385.jpg"
      ]
     },
     "execution_count": 283,
     "metadata": {},
     "output_type": "execute_result"
    }
   ],
   "source": [
    "sexo_error_1 = data[data[\"sexo\"] == \"\"  ]\n",
    "sexo_error_1"
   ]
  },
  {
   "cell_type": "code",
   "execution_count": 284,
   "metadata": {},
   "outputs": [
    {
     "data": {
      "text/html": [
       "<div>\n",
       "<style scoped>\n",
       "    .dataframe tbody tr th:only-of-type {\n",
       "        vertical-align: middle;\n",
       "    }\n",
       "\n",
       "    .dataframe tbody tr th {\n",
       "        vertical-align: top;\n",
       "    }\n",
       "\n",
       "    .dataframe thead th {\n",
       "        text-align: right;\n",
       "    }\n",
       "</style>\n",
       "<table border=\"1\" class=\"dataframe\">\n",
       "  <thead>\n",
       "    <tr style=\"text-align: right;\">\n",
       "      <th></th>\n",
       "      <th>edad</th>\n",
       "      <th>sexo</th>\n",
       "      <th>raza</th>\n",
       "      <th>formato</th>\n",
       "      <th>filename</th>\n",
       "    </tr>\n",
       "  </thead>\n",
       "  <tbody>\n",
       "    <tr>\n",
       "      <th>21131</th>\n",
       "      <td>61</td>\n",
       "      <td>3</td>\n",
       "      <td>20170109150557335.jpg</td>\n",
       "      <td>jpg</td>\n",
       "      <td>61_3_20170109150557335.jpg</td>\n",
       "    </tr>\n",
       "  </tbody>\n",
       "</table>\n",
       "</div>"
      ],
      "text/plain": [
       "      edad sexo                   raza formato                    filename\n",
       "21131   61    3  20170109150557335.jpg     jpg  61_3_20170109150557335.jpg"
      ]
     },
     "execution_count": 284,
     "metadata": {},
     "output_type": "execute_result"
    }
   ],
   "source": [
    "sexo_error_2 = data[data[\"sexo\"] == \"3\"]\n",
    "sexo_error_2"
   ]
  },
  {
   "cell_type": "markdown",
   "metadata": {},
   "source": [
    "### Raza"
   ]
  },
  {
   "cell_type": "code",
   "execution_count": 285,
   "metadata": {},
   "outputs": [
    {
     "data": {
      "text/html": [
       "<div>\n",
       "<style scoped>\n",
       "    .dataframe tbody tr th:only-of-type {\n",
       "        vertical-align: middle;\n",
       "    }\n",
       "\n",
       "    .dataframe tbody tr th {\n",
       "        vertical-align: top;\n",
       "    }\n",
       "\n",
       "    .dataframe thead th {\n",
       "        text-align: right;\n",
       "    }\n",
       "</style>\n",
       "<table border=\"1\" class=\"dataframe\">\n",
       "  <thead>\n",
       "    <tr style=\"text-align: right;\">\n",
       "      <th></th>\n",
       "      <th>edad</th>\n",
       "      <th>sexo</th>\n",
       "      <th>raza</th>\n",
       "      <th>formato</th>\n",
       "      <th>filename</th>\n",
       "    </tr>\n",
       "  </thead>\n",
       "  <tbody>\n",
       "    <tr>\n",
       "      <th>15277</th>\n",
       "      <td>39</td>\n",
       "      <td>1</td>\n",
       "      <td>20170116174525125.jpg</td>\n",
       "      <td>jpg</td>\n",
       "      <td>39_1_20170116174525125.jpg</td>\n",
       "    </tr>\n",
       "  </tbody>\n",
       "</table>\n",
       "</div>"
      ],
      "text/plain": [
       "      edad sexo                   raza formato                    filename\n",
       "15277   39    1  20170116174525125.jpg     jpg  39_1_20170116174525125.jpg"
      ]
     },
     "execution_count": 285,
     "metadata": {},
     "output_type": "execute_result"
    }
   ],
   "source": [
    "raza_error_1 = data[data[\"raza\"] == \"20170116174525125.jpg\"  ]\n",
    "raza_error_1"
   ]
  },
  {
   "cell_type": "code",
   "execution_count": 286,
   "metadata": {},
   "outputs": [
    {
     "data": {
      "text/html": [
       "<div>\n",
       "<style scoped>\n",
       "    .dataframe tbody tr th:only-of-type {\n",
       "        vertical-align: middle;\n",
       "    }\n",
       "\n",
       "    .dataframe tbody tr th {\n",
       "        vertical-align: top;\n",
       "    }\n",
       "\n",
       "    .dataframe thead th {\n",
       "        text-align: right;\n",
       "    }\n",
       "</style>\n",
       "<table border=\"1\" class=\"dataframe\">\n",
       "  <thead>\n",
       "    <tr style=\"text-align: right;\">\n",
       "      <th></th>\n",
       "      <th>edad</th>\n",
       "      <th>sexo</th>\n",
       "      <th>raza</th>\n",
       "      <th>formato</th>\n",
       "      <th>filename</th>\n",
       "    </tr>\n",
       "  </thead>\n",
       "  <tbody>\n",
       "    <tr>\n",
       "      <th>21119</th>\n",
       "      <td>61</td>\n",
       "      <td>1</td>\n",
       "      <td>20170109142408075.jpg</td>\n",
       "      <td>jpg</td>\n",
       "      <td>61_1_20170109142408075.jpg</td>\n",
       "    </tr>\n",
       "  </tbody>\n",
       "</table>\n",
       "</div>"
      ],
      "text/plain": [
       "      edad sexo                   raza formato                    filename\n",
       "21119   61    1  20170109142408075.jpg     jpg  61_1_20170109142408075.jpg"
      ]
     },
     "execution_count": 286,
     "metadata": {},
     "output_type": "execute_result"
    }
   ],
   "source": [
    "raza_error_2 = data[data[\"raza\"] == \"20170109142408075.jpg\"  ]\n",
    "raza_error_2"
   ]
  },
  {
   "cell_type": "code",
   "execution_count": 287,
   "metadata": {},
   "outputs": [
    {
     "data": {
      "text/html": [
       "<div>\n",
       "<style scoped>\n",
       "    .dataframe tbody tr th:only-of-type {\n",
       "        vertical-align: middle;\n",
       "    }\n",
       "\n",
       "    .dataframe tbody tr th {\n",
       "        vertical-align: top;\n",
       "    }\n",
       "\n",
       "    .dataframe thead th {\n",
       "        text-align: right;\n",
       "    }\n",
       "</style>\n",
       "<table border=\"1\" class=\"dataframe\">\n",
       "  <thead>\n",
       "    <tr style=\"text-align: right;\">\n",
       "      <th></th>\n",
       "      <th>edad</th>\n",
       "      <th>sexo</th>\n",
       "      <th>raza</th>\n",
       "      <th>formato</th>\n",
       "      <th>filename</th>\n",
       "    </tr>\n",
       "  </thead>\n",
       "  <tbody>\n",
       "    <tr>\n",
       "      <th>21131</th>\n",
       "      <td>61</td>\n",
       "      <td>3</td>\n",
       "      <td>20170109150557335.jpg</td>\n",
       "      <td>jpg</td>\n",
       "      <td>61_3_20170109150557335.jpg</td>\n",
       "    </tr>\n",
       "  </tbody>\n",
       "</table>\n",
       "</div>"
      ],
      "text/plain": [
       "      edad sexo                   raza formato                    filename\n",
       "21131   61    3  20170109150557335.jpg     jpg  61_3_20170109150557335.jpg"
      ]
     },
     "execution_count": 287,
     "metadata": {},
     "output_type": "execute_result"
    }
   ],
   "source": [
    "raza_error_3 = data[data[\"raza\"] == \"20170109150557335.jpg\"  ]\n",
    "raza_error_3"
   ]
  },
  {
   "cell_type": "code",
   "execution_count": null,
   "metadata": {},
   "outputs": [],
   "source": []
  },
  {
   "cell_type": "markdown",
   "metadata": {},
   "source": [
    "### Formato"
   ]
  },
  {
   "cell_type": "code",
   "execution_count": 288,
   "metadata": {},
   "outputs": [
    {
     "data": {
      "text/html": [
       "<div>\n",
       "<style scoped>\n",
       "    .dataframe tbody tr th:only-of-type {\n",
       "        vertical-align: middle;\n",
       "    }\n",
       "\n",
       "    .dataframe tbody tr th {\n",
       "        vertical-align: top;\n",
       "    }\n",
       "\n",
       "    .dataframe thead th {\n",
       "        text-align: right;\n",
       "    }\n",
       "</style>\n",
       "<table border=\"1\" class=\"dataframe\">\n",
       "  <thead>\n",
       "    <tr style=\"text-align: right;\">\n",
       "      <th></th>\n",
       "      <th>edad</th>\n",
       "      <th>sexo</th>\n",
       "      <th>raza</th>\n",
       "      <th>formato</th>\n",
       "      <th>filename</th>\n",
       "    </tr>\n",
       "  </thead>\n",
       "  <tbody>\n",
       "    <tr>\n",
       "      <th>16800</th>\n",
       "      <td>44</td>\n",
       "      <td>1</td>\n",
       "      <td>4</td>\n",
       "      <td>pg</td>\n",
       "      <td>44_1_4_20170116235150272.pg</td>\n",
       "    </tr>\n",
       "  </tbody>\n",
       "</table>\n",
       "</div>"
      ],
      "text/plain": [
       "      edad sexo raza formato                     filename\n",
       "16800   44    1    4      pg  44_1_4_20170116235150272.pg"
      ]
     },
     "execution_count": 288,
     "metadata": {},
     "output_type": "execute_result"
    }
   ],
   "source": [
    "formato_error_1 = data[data[\"formato\"] ==  'pg' ]\n",
    "formato_error_1"
   ]
  },
  {
   "cell_type": "code",
   "execution_count": 289,
   "metadata": {},
   "outputs": [
    {
     "data": {
      "text/html": [
       "<div>\n",
       "<style scoped>\n",
       "    .dataframe tbody tr th:only-of-type {\n",
       "        vertical-align: middle;\n",
       "    }\n",
       "\n",
       "    .dataframe tbody tr th {\n",
       "        vertical-align: top;\n",
       "    }\n",
       "\n",
       "    .dataframe thead th {\n",
       "        text-align: right;\n",
       "    }\n",
       "</style>\n",
       "<table border=\"1\" class=\"dataframe\">\n",
       "  <thead>\n",
       "    <tr style=\"text-align: right;\">\n",
       "      <th></th>\n",
       "      <th>edad</th>\n",
       "      <th>sexo</th>\n",
       "      <th>raza</th>\n",
       "      <th>formato</th>\n",
       "      <th>filename</th>\n",
       "    </tr>\n",
       "  </thead>\n",
       "  <tbody>\n",
       "    <tr>\n",
       "      <th>19532</th>\n",
       "      <td>55</td>\n",
       "      <td>0</td>\n",
       "      <td>0</td>\n",
       "      <td>None</td>\n",
       "      <td>55_0_0_20170116232725357jpg</td>\n",
       "    </tr>\n",
       "  </tbody>\n",
       "</table>\n",
       "</div>"
      ],
      "text/plain": [
       "      edad sexo raza formato                     filename\n",
       "19532   55    0    0    None  55_0_0_20170116232725357jpg"
      ]
     },
     "execution_count": 289,
     "metadata": {},
     "output_type": "execute_result"
    }
   ],
   "source": [
    "formato_error_2 = data[data[\"formato\"].isna()]\n",
    "formato_error_2"
   ]
  },
  {
   "cell_type": "code",
   "execution_count": null,
   "metadata": {},
   "outputs": [],
   "source": []
  },
  {
   "cell_type": "code",
   "execution_count": null,
   "metadata": {},
   "outputs": [],
   "source": []
  },
  {
   "cell_type": "markdown",
   "metadata": {},
   "source": [
    "## Imagenes erróneas encontradas"
   ]
  },
  {
   "cell_type": "code",
   "execution_count": 290,
   "metadata": {},
   "outputs": [
    {
     "data": {
      "text/html": [
       "<div>\n",
       "<style scoped>\n",
       "    .dataframe tbody tr th:only-of-type {\n",
       "        vertical-align: middle;\n",
       "    }\n",
       "\n",
       "    .dataframe tbody tr th {\n",
       "        vertical-align: top;\n",
       "    }\n",
       "\n",
       "    .dataframe thead th {\n",
       "        text-align: right;\n",
       "    }\n",
       "</style>\n",
       "<table border=\"1\" class=\"dataframe\">\n",
       "  <thead>\n",
       "    <tr style=\"text-align: right;\">\n",
       "      <th></th>\n",
       "      <th>edad</th>\n",
       "      <th>sexo</th>\n",
       "      <th>raza</th>\n",
       "      <th>formato</th>\n",
       "      <th>filename</th>\n",
       "    </tr>\n",
       "  </thead>\n",
       "  <tbody>\n",
       "    <tr>\n",
       "      <th>19143</th>\n",
       "      <td>53</td>\n",
       "      <td></td>\n",
       "      <td>0</td>\n",
       "      <td>jpg</td>\n",
       "      <td>53__0_20170116184028385.jpg</td>\n",
       "    </tr>\n",
       "    <tr>\n",
       "      <th>21131</th>\n",
       "      <td>61</td>\n",
       "      <td>3</td>\n",
       "      <td>20170109150557335.jpg</td>\n",
       "      <td>jpg</td>\n",
       "      <td>61_3_20170109150557335.jpg</td>\n",
       "    </tr>\n",
       "    <tr>\n",
       "      <th>15277</th>\n",
       "      <td>39</td>\n",
       "      <td>1</td>\n",
       "      <td>20170116174525125.jpg</td>\n",
       "      <td>jpg</td>\n",
       "      <td>39_1_20170116174525125.jpg</td>\n",
       "    </tr>\n",
       "    <tr>\n",
       "      <th>21119</th>\n",
       "      <td>61</td>\n",
       "      <td>1</td>\n",
       "      <td>20170109142408075.jpg</td>\n",
       "      <td>jpg</td>\n",
       "      <td>61_1_20170109142408075.jpg</td>\n",
       "    </tr>\n",
       "    <tr>\n",
       "      <th>21131</th>\n",
       "      <td>61</td>\n",
       "      <td>3</td>\n",
       "      <td>20170109150557335.jpg</td>\n",
       "      <td>jpg</td>\n",
       "      <td>61_3_20170109150557335.jpg</td>\n",
       "    </tr>\n",
       "    <tr>\n",
       "      <th>16800</th>\n",
       "      <td>44</td>\n",
       "      <td>1</td>\n",
       "      <td>4</td>\n",
       "      <td>pg</td>\n",
       "      <td>44_1_4_20170116235150272.pg</td>\n",
       "    </tr>\n",
       "    <tr>\n",
       "      <th>19532</th>\n",
       "      <td>55</td>\n",
       "      <td>0</td>\n",
       "      <td>0</td>\n",
       "      <td>None</td>\n",
       "      <td>55_0_0_20170116232725357jpg</td>\n",
       "    </tr>\n",
       "  </tbody>\n",
       "</table>\n",
       "</div>"
      ],
      "text/plain": [
       "      edad sexo                   raza formato                     filename\n",
       "19143   53                           0     jpg  53__0_20170116184028385.jpg\n",
       "21131   61    3  20170109150557335.jpg     jpg   61_3_20170109150557335.jpg\n",
       "15277   39    1  20170116174525125.jpg     jpg   39_1_20170116174525125.jpg\n",
       "21119   61    1  20170109142408075.jpg     jpg   61_1_20170109142408075.jpg\n",
       "21131   61    3  20170109150557335.jpg     jpg   61_3_20170109150557335.jpg\n",
       "16800   44    1                      4      pg  44_1_4_20170116235150272.pg\n",
       "19532   55    0                      0    None  55_0_0_20170116232725357jpg"
      ]
     },
     "execution_count": 290,
     "metadata": {},
     "output_type": "execute_result"
    }
   ],
   "source": [
    "imagenes_erroneas = pd.concat([sexo_error_1, sexo_error_2,\n",
    "                               raza_error_1, raza_error_2, raza_error_3,\n",
    "                               formato_error_1,formato_error_2 ])\n",
    "imagenes_erroneas"
   ]
  },
  {
   "cell_type": "code",
   "execution_count": 291,
   "metadata": {},
   "outputs": [
    {
     "data": {
      "text/html": [
       "<div>\n",
       "<style scoped>\n",
       "    .dataframe tbody tr th:only-of-type {\n",
       "        vertical-align: middle;\n",
       "    }\n",
       "\n",
       "    .dataframe tbody tr th {\n",
       "        vertical-align: top;\n",
       "    }\n",
       "\n",
       "    .dataframe thead th {\n",
       "        text-align: right;\n",
       "    }\n",
       "</style>\n",
       "<table border=\"1\" class=\"dataframe\">\n",
       "  <thead>\n",
       "    <tr style=\"text-align: right;\">\n",
       "      <th></th>\n",
       "      <th>edad</th>\n",
       "      <th>sexo</th>\n",
       "      <th>raza</th>\n",
       "      <th>formato</th>\n",
       "      <th>filename</th>\n",
       "    </tr>\n",
       "  </thead>\n",
       "  <tbody>\n",
       "    <tr>\n",
       "      <th>19143</th>\n",
       "      <td>53</td>\n",
       "      <td></td>\n",
       "      <td>0</td>\n",
       "      <td>jpg</td>\n",
       "      <td>53__0_20170116184028385.jpg</td>\n",
       "    </tr>\n",
       "    <tr>\n",
       "      <th>21131</th>\n",
       "      <td>61</td>\n",
       "      <td>3</td>\n",
       "      <td>20170109150557335.jpg</td>\n",
       "      <td>jpg</td>\n",
       "      <td>61_3_20170109150557335.jpg</td>\n",
       "    </tr>\n",
       "    <tr>\n",
       "      <th>15277</th>\n",
       "      <td>39</td>\n",
       "      <td>1</td>\n",
       "      <td>20170116174525125.jpg</td>\n",
       "      <td>jpg</td>\n",
       "      <td>39_1_20170116174525125.jpg</td>\n",
       "    </tr>\n",
       "    <tr>\n",
       "      <th>21119</th>\n",
       "      <td>61</td>\n",
       "      <td>1</td>\n",
       "      <td>20170109142408075.jpg</td>\n",
       "      <td>jpg</td>\n",
       "      <td>61_1_20170109142408075.jpg</td>\n",
       "    </tr>\n",
       "    <tr>\n",
       "      <th>16800</th>\n",
       "      <td>44</td>\n",
       "      <td>1</td>\n",
       "      <td>4</td>\n",
       "      <td>pg</td>\n",
       "      <td>44_1_4_20170116235150272.pg</td>\n",
       "    </tr>\n",
       "    <tr>\n",
       "      <th>19532</th>\n",
       "      <td>55</td>\n",
       "      <td>0</td>\n",
       "      <td>0</td>\n",
       "      <td>None</td>\n",
       "      <td>55_0_0_20170116232725357jpg</td>\n",
       "    </tr>\n",
       "  </tbody>\n",
       "</table>\n",
       "</div>"
      ],
      "text/plain": [
       "      edad sexo                   raza formato                     filename\n",
       "19143   53                           0     jpg  53__0_20170116184028385.jpg\n",
       "21131   61    3  20170109150557335.jpg     jpg   61_3_20170109150557335.jpg\n",
       "15277   39    1  20170116174525125.jpg     jpg   39_1_20170116174525125.jpg\n",
       "21119   61    1  20170109142408075.jpg     jpg   61_1_20170109142408075.jpg\n",
       "16800   44    1                      4      pg  44_1_4_20170116235150272.pg\n",
       "19532   55    0                      0    None  55_0_0_20170116232725357jpg"
      ]
     },
     "execution_count": 291,
     "metadata": {},
     "output_type": "execute_result"
    }
   ],
   "source": [
    "imagenes_erroneas = imagenes_erroneas.drop_duplicates()\n",
    "imagenes_erroneas"
   ]
  },
  {
   "cell_type": "markdown",
   "metadata": {},
   "source": [
    "Varios archivos se repiten como mal escritos por lo que retirando los duplicadso procedemos a la eliminación de los siguientes archivos:"
   ]
  },
  {
   "cell_type": "code",
   "execution_count": 292,
   "metadata": {},
   "outputs": [
    {
     "data": {
      "text/plain": [
       "19143    53__0_20170116184028385.jpg\n",
       "21131     61_3_20170109150557335.jpg\n",
       "15277     39_1_20170116174525125.jpg\n",
       "21119     61_1_20170109142408075.jpg\n",
       "16800    44_1_4_20170116235150272.pg\n",
       "19532    55_0_0_20170116232725357jpg\n",
       "Name: filename, dtype: object"
      ]
     },
     "execution_count": 292,
     "metadata": {},
     "output_type": "execute_result"
    }
   ],
   "source": [
    "# nombre imagenes erroneas para localizarlas y eliminarlas en la carpeta\n",
    "\n",
    "imagenes_erroneas.filename"
   ]
  },
  {
   "cell_type": "code",
   "execution_count": null,
   "metadata": {},
   "outputs": [],
   "source": []
  },
  {
   "cell_type": "markdown",
   "metadata": {},
   "source": [
    "# Eliminación y imputación de nombres\n"
   ]
  },
  {
   "cell_type": "markdown",
   "metadata": {},
   "source": [
    "## Eliminación"
   ]
  },
  {
   "cell_type": "code",
   "execution_count": 293,
   "metadata": {},
   "outputs": [],
   "source": [
    "# eliminación filas contenidas en el dataframe \"imagenes_erroneas\"\n",
    "data = data.drop(data.index[imagenes_erroneas.index])"
   ]
  },
  {
   "cell_type": "code",
   "execution_count": 294,
   "metadata": {},
   "outputs": [
    {
     "data": {
      "text/html": [
       "<div>\n",
       "<style scoped>\n",
       "    .dataframe tbody tr th:only-of-type {\n",
       "        vertical-align: middle;\n",
       "    }\n",
       "\n",
       "    .dataframe tbody tr th {\n",
       "        vertical-align: top;\n",
       "    }\n",
       "\n",
       "    .dataframe thead th {\n",
       "        text-align: right;\n",
       "    }\n",
       "</style>\n",
       "<table border=\"1\" class=\"dataframe\">\n",
       "  <thead>\n",
       "    <tr style=\"text-align: right;\">\n",
       "      <th></th>\n",
       "      <th>edad</th>\n",
       "      <th>sexo</th>\n",
       "      <th>raza</th>\n",
       "      <th>formato</th>\n",
       "      <th>filename</th>\n",
       "    </tr>\n",
       "  </thead>\n",
       "  <tbody>\n",
       "    <tr>\n",
       "      <th>0</th>\n",
       "      <td>100</td>\n",
       "      <td>0</td>\n",
       "      <td>0</td>\n",
       "      <td>jpg</td>\n",
       "      <td>100_0_0_20170112213500903.jpg</td>\n",
       "    </tr>\n",
       "    <tr>\n",
       "      <th>1</th>\n",
       "      <td>100</td>\n",
       "      <td>0</td>\n",
       "      <td>0</td>\n",
       "      <td>jpg</td>\n",
       "      <td>100_0_0_20170112215240346.jpg</td>\n",
       "    </tr>\n",
       "    <tr>\n",
       "      <th>2</th>\n",
       "      <td>100</td>\n",
       "      <td>1</td>\n",
       "      <td>0</td>\n",
       "      <td>jpg</td>\n",
       "      <td>100_1_0_20170110183726390.jpg</td>\n",
       "    </tr>\n",
       "    <tr>\n",
       "      <th>3</th>\n",
       "      <td>100</td>\n",
       "      <td>1</td>\n",
       "      <td>0</td>\n",
       "      <td>jpg</td>\n",
       "      <td>100_1_0_20170112213001988.jpg</td>\n",
       "    </tr>\n",
       "    <tr>\n",
       "      <th>4</th>\n",
       "      <td>100</td>\n",
       "      <td>1</td>\n",
       "      <td>0</td>\n",
       "      <td>jpg</td>\n",
       "      <td>100_1_0_20170112213303693.jpg</td>\n",
       "    </tr>\n",
       "    <tr>\n",
       "      <th>...</th>\n",
       "      <td>...</td>\n",
       "      <td>...</td>\n",
       "      <td>...</td>\n",
       "      <td>...</td>\n",
       "      <td>...</td>\n",
       "    </tr>\n",
       "    <tr>\n",
       "      <th>24100</th>\n",
       "      <td>9</td>\n",
       "      <td>1</td>\n",
       "      <td>3</td>\n",
       "      <td>jpg</td>\n",
       "      <td>9_1_3_20161220222856346.jpg</td>\n",
       "    </tr>\n",
       "    <tr>\n",
       "      <th>24101</th>\n",
       "      <td>9</td>\n",
       "      <td>1</td>\n",
       "      <td>3</td>\n",
       "      <td>jpg</td>\n",
       "      <td>9_1_3_20170104222949455.jpg</td>\n",
       "    </tr>\n",
       "    <tr>\n",
       "      <th>24102</th>\n",
       "      <td>9</td>\n",
       "      <td>1</td>\n",
       "      <td>4</td>\n",
       "      <td>jpg</td>\n",
       "      <td>9_1_4_20170103200637399.jpg</td>\n",
       "    </tr>\n",
       "    <tr>\n",
       "      <th>24103</th>\n",
       "      <td>9</td>\n",
       "      <td>1</td>\n",
       "      <td>4</td>\n",
       "      <td>jpg</td>\n",
       "      <td>9_1_4_20170103200814791.jpg</td>\n",
       "    </tr>\n",
       "    <tr>\n",
       "      <th>24104</th>\n",
       "      <td>9</td>\n",
       "      <td>1</td>\n",
       "      <td>4</td>\n",
       "      <td>jpg</td>\n",
       "      <td>9_1_4_20170103213057382.jpg</td>\n",
       "    </tr>\n",
       "  </tbody>\n",
       "</table>\n",
       "<p>24099 rows × 5 columns</p>\n",
       "</div>"
      ],
      "text/plain": [
       "      edad sexo raza formato                       filename\n",
       "0      100    0    0     jpg  100_0_0_20170112213500903.jpg\n",
       "1      100    0    0     jpg  100_0_0_20170112215240346.jpg\n",
       "2      100    1    0     jpg  100_1_0_20170110183726390.jpg\n",
       "3      100    1    0     jpg  100_1_0_20170112213001988.jpg\n",
       "4      100    1    0     jpg  100_1_0_20170112213303693.jpg\n",
       "...    ...  ...  ...     ...                            ...\n",
       "24100    9    1    3     jpg    9_1_3_20161220222856346.jpg\n",
       "24101    9    1    3     jpg    9_1_3_20170104222949455.jpg\n",
       "24102    9    1    4     jpg    9_1_4_20170103200637399.jpg\n",
       "24103    9    1    4     jpg    9_1_4_20170103200814791.jpg\n",
       "24104    9    1    4     jpg    9_1_4_20170103213057382.jpg\n",
       "\n",
       "[24099 rows x 5 columns]"
      ]
     },
     "execution_count": 294,
     "metadata": {},
     "output_type": "execute_result"
    }
   ],
   "source": [
    "data"
   ]
  },
  {
   "cell_type": "code",
   "execution_count": 295,
   "metadata": {},
   "outputs": [
    {
     "name": "stdout",
     "output_type": "stream",
     "text": [
      "['100' '101' '103' '105' '10' '110' '111' '115' '116' '11' '12' '13' '14'\n",
      " '15' '16' '17' '18' '19' '1' '20' '21' '22' '23' '24' '25' '26' '27' '28'\n",
      " '29' '2' '30' '31' '32' '33' '34' '35' '36' '37' '38' '39' '3' '40' '41'\n",
      " '42' '43' '44' '45' '46' '47' '48' '49' '4' '50' '51' '52' '53' '54' '55'\n",
      " '56' '57' '58' '59' '5' '60' '61' '62' '63' '64' '65' '66' '67' '68' '69'\n",
      " '6' '70' '71' '72' '73' '74' '75' '76' '77' '78' '79' '7' '80' '81' '82'\n",
      " '83' '84' '85' '86' '87' '88' '89' '8' '90' '91' '92' '93' '95' '96' '99'\n",
      " '9']\n",
      "['0' '1']\n",
      "['0' '2' '1' '3' '4']\n",
      "['jpg']\n"
     ]
    }
   ],
   "source": [
    "#comprobamos que se han eliminado las variables erroneas\n",
    "\n",
    "print(data.edad.unique())\n",
    "print(data.sexo.unique())\n",
    "print(data.raza.unique())\n",
    "print(data.formato.unique())"
   ]
  },
  {
   "cell_type": "markdown",
   "metadata": {},
   "source": [
    "## Imputación valores celdas"
   ]
  },
  {
   "cell_type": "code",
   "execution_count": 307,
   "metadata": {},
   "outputs": [],
   "source": [
    "sexo = pd.DataFrame(data.sexo.replace({\"0\": \"male\",\n",
    "                         \"1\": \"female\"}))"
   ]
  },
  {
   "cell_type": "code",
   "execution_count": 308,
   "metadata": {},
   "outputs": [],
   "source": [
    "raza = pd.DataFrame(data.raza.replace({\"0\":\"White\",\n",
    "                   \"1\":\"Black\",\n",
    "                   \"2\":\"Asian\",\n",
    "                   \"3\":\"Indian\",\n",
    "                   \"4\":\"Others\" }))"
   ]
  },
  {
   "cell_type": "code",
   "execution_count": 313,
   "metadata": {},
   "outputs": [],
   "source": [
    "data.sexo = sexo\n",
    "data.raza = raza"
   ]
  },
  {
   "cell_type": "code",
   "execution_count": 314,
   "metadata": {},
   "outputs": [
    {
     "data": {
      "text/html": [
       "<div>\n",
       "<style scoped>\n",
       "    .dataframe tbody tr th:only-of-type {\n",
       "        vertical-align: middle;\n",
       "    }\n",
       "\n",
       "    .dataframe tbody tr th {\n",
       "        vertical-align: top;\n",
       "    }\n",
       "\n",
       "    .dataframe thead th {\n",
       "        text-align: right;\n",
       "    }\n",
       "</style>\n",
       "<table border=\"1\" class=\"dataframe\">\n",
       "  <thead>\n",
       "    <tr style=\"text-align: right;\">\n",
       "      <th></th>\n",
       "      <th>edad</th>\n",
       "      <th>sexo</th>\n",
       "      <th>raza</th>\n",
       "      <th>formato</th>\n",
       "      <th>filename</th>\n",
       "    </tr>\n",
       "  </thead>\n",
       "  <tbody>\n",
       "    <tr>\n",
       "      <th>0</th>\n",
       "      <td>100</td>\n",
       "      <td>male</td>\n",
       "      <td>White</td>\n",
       "      <td>jpg</td>\n",
       "      <td>100_0_0_20170112213500903.jpg</td>\n",
       "    </tr>\n",
       "    <tr>\n",
       "      <th>1</th>\n",
       "      <td>100</td>\n",
       "      <td>male</td>\n",
       "      <td>White</td>\n",
       "      <td>jpg</td>\n",
       "      <td>100_0_0_20170112215240346.jpg</td>\n",
       "    </tr>\n",
       "    <tr>\n",
       "      <th>2</th>\n",
       "      <td>100</td>\n",
       "      <td>female</td>\n",
       "      <td>White</td>\n",
       "      <td>jpg</td>\n",
       "      <td>100_1_0_20170110183726390.jpg</td>\n",
       "    </tr>\n",
       "    <tr>\n",
       "      <th>3</th>\n",
       "      <td>100</td>\n",
       "      <td>female</td>\n",
       "      <td>White</td>\n",
       "      <td>jpg</td>\n",
       "      <td>100_1_0_20170112213001988.jpg</td>\n",
       "    </tr>\n",
       "    <tr>\n",
       "      <th>4</th>\n",
       "      <td>100</td>\n",
       "      <td>female</td>\n",
       "      <td>White</td>\n",
       "      <td>jpg</td>\n",
       "      <td>100_1_0_20170112213303693.jpg</td>\n",
       "    </tr>\n",
       "    <tr>\n",
       "      <th>...</th>\n",
       "      <td>...</td>\n",
       "      <td>...</td>\n",
       "      <td>...</td>\n",
       "      <td>...</td>\n",
       "      <td>...</td>\n",
       "    </tr>\n",
       "    <tr>\n",
       "      <th>24100</th>\n",
       "      <td>9</td>\n",
       "      <td>female</td>\n",
       "      <td>Indian</td>\n",
       "      <td>jpg</td>\n",
       "      <td>9_1_3_20161220222856346.jpg</td>\n",
       "    </tr>\n",
       "    <tr>\n",
       "      <th>24101</th>\n",
       "      <td>9</td>\n",
       "      <td>female</td>\n",
       "      <td>Indian</td>\n",
       "      <td>jpg</td>\n",
       "      <td>9_1_3_20170104222949455.jpg</td>\n",
       "    </tr>\n",
       "    <tr>\n",
       "      <th>24102</th>\n",
       "      <td>9</td>\n",
       "      <td>female</td>\n",
       "      <td>Others</td>\n",
       "      <td>jpg</td>\n",
       "      <td>9_1_4_20170103200637399.jpg</td>\n",
       "    </tr>\n",
       "    <tr>\n",
       "      <th>24103</th>\n",
       "      <td>9</td>\n",
       "      <td>female</td>\n",
       "      <td>Others</td>\n",
       "      <td>jpg</td>\n",
       "      <td>9_1_4_20170103200814791.jpg</td>\n",
       "    </tr>\n",
       "    <tr>\n",
       "      <th>24104</th>\n",
       "      <td>9</td>\n",
       "      <td>female</td>\n",
       "      <td>Others</td>\n",
       "      <td>jpg</td>\n",
       "      <td>9_1_4_20170103213057382.jpg</td>\n",
       "    </tr>\n",
       "  </tbody>\n",
       "</table>\n",
       "<p>24099 rows × 5 columns</p>\n",
       "</div>"
      ],
      "text/plain": [
       "      edad    sexo    raza formato                       filename\n",
       "0      100    male   White     jpg  100_0_0_20170112213500903.jpg\n",
       "1      100    male   White     jpg  100_0_0_20170112215240346.jpg\n",
       "2      100  female   White     jpg  100_1_0_20170110183726390.jpg\n",
       "3      100  female   White     jpg  100_1_0_20170112213001988.jpg\n",
       "4      100  female   White     jpg  100_1_0_20170112213303693.jpg\n",
       "...    ...     ...     ...     ...                            ...\n",
       "24100    9  female  Indian     jpg    9_1_3_20161220222856346.jpg\n",
       "24101    9  female  Indian     jpg    9_1_3_20170104222949455.jpg\n",
       "24102    9  female  Others     jpg    9_1_4_20170103200637399.jpg\n",
       "24103    9  female  Others     jpg    9_1_4_20170103200814791.jpg\n",
       "24104    9  female  Others     jpg    9_1_4_20170103213057382.jpg\n",
       "\n",
       "[24099 rows x 5 columns]"
      ]
     },
     "execution_count": 314,
     "metadata": {},
     "output_type": "execute_result"
    }
   ],
   "source": [
    "data"
   ]
  },
  {
   "cell_type": "code",
   "execution_count": 315,
   "metadata": {},
   "outputs": [],
   "source": [
    "data.to_json(r'..\\data\\03_data_eda\\03_data_eda.json')"
   ]
  }
 ],
 "metadata": {
  "kernelspec": {
   "display_name": "Python 3",
   "language": "python",
   "name": "python3"
  },
  "language_info": {
   "codemirror_mode": {
    "name": "ipython",
    "version": 3
   },
   "file_extension": ".py",
   "mimetype": "text/x-python",
   "name": "python",
   "nbconvert_exporter": "python",
   "pygments_lexer": "ipython3",
   "version": "3.8.5"
  }
 },
 "nbformat": 4,
 "nbformat_minor": 4
}
