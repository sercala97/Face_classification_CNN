{
 "cells": [
  {
   "cell_type": "markdown",
   "metadata": {},
   "source": [
    "#### Nombre: **02_preprocessing**\n",
    "#### Autores: _Sergio Cañón  Laiz y Ignacio Ruiz de Zuazu Echavarría_\n",
    "#### CUNEF\n",
    "#### 15/01/2021\n"
   ]
  },
  {
   "cell_type": "markdown",
   "metadata": {},
   "source": [
    "# Librerías"
   ]
  },
  {
   "cell_type": "code",
   "execution_count": 1,
   "metadata": {},
   "outputs": [],
   "source": [
    "# importamos librerías \n",
    "\n",
    "import numpy as np  # álgebra lineal\n",
    "import tensorflow as tf\n",
    "from tensorflow.keras.models import Sequential\n",
    "from tensorflow.keras.layers import Dense\n",
    "from tensorflow.keras.layers import Conv2D, MaxPooling2D, AveragePooling2D, GlobalAveragePooling2D\n",
    "from tensorflow.keras import utils\n",
    "from tensorflow.keras.callbacks import EarlyStopping, TensorBoard\n",
    "import glob  # pathnames\n",
    "import cv2  # lectura y procesamiento de las imagenes\n",
    "\n",
    "import matplotlib.pyplot as plt  # gráficos\n",
    "import matplotlib.image as mpimg\n",
    "\n",
    "import os  # lectura de directorios\n",
    "\n",
    "import keras \n",
    "from keras.layers import *\n",
    "from keras.models import *\n",
    "from keras.utils.np_utils import to_categorical\n",
    "from keras import backend as K\n",
    "from keras import optimizers\n",
    "import time #tiempos de ejecución\n",
    "from random import shuffle\n",
    "from keras.preprocessing import image\n",
    "import imageio\n",
    "\n",
    "\n",
    "from tensorflow.keras.preprocessing import image\n",
    "import matplotlib.pyplot as plt\n",
    "from keras.optimizers import SGD\n",
    "\n",
    "from numpy import savetxt\n"
   ]
  },
  {
   "cell_type": "markdown",
   "metadata": {},
   "source": [
    "# Importación de datos"
   ]
  },
  {
   "cell_type": "code",
   "execution_count": 13,
   "metadata": {},
   "outputs": [
    {
     "name": "stdout",
     "output_type": "stream",
     "text": [
      "La longuitud del los datos son de: 24099\n"
     ]
    }
   ],
   "source": [
    "# carpeta con imagenes procesadas\n",
    "\n",
    "onlyfiles = os.listdir(r\"..\\\\data\\\\02_processed\\\\\")\n",
    "size = len(onlyfiles)\n",
    "print(\"La longuitud del los datos son de:\", len(onlyfiles))"
   ]
  },
  {
   "cell_type": "code",
   "execution_count": 14,
   "metadata": {},
   "outputs": [],
   "source": [
    "# shuffle para que las imagenes estén mezcladas y no nos distorsione el train y test set\n",
    "\n",
    "shuffle(onlyfiles)\n"
   ]
  },
  {
   "cell_type": "markdown",
   "metadata": {},
   "source": [
    "# Tratamiento de la variable objetivo"
   ]
  },
  {
   "cell_type": "markdown",
   "metadata": {},
   "source": [
    "Para clasificar las imagenes, parseamos el nombre del fichero por el número (edad) antes de la primera barra baja. Segundo, plantemos el problema como uno de clasificación por lo que agrupamos las edades en intervalos."
   ]
  },
  {
   "cell_type": "code",
   "execution_count": 15,
   "metadata": {},
   "outputs": [],
   "source": [
    "#split nombre de cada .JPG\n",
    "\n",
    "race = [i.split('_')[2] for i in onlyfiles]\n",
    "age = [i.split('_')[0] for i in onlyfiles]\n",
    "gender = [i.split('_')[1] for i in onlyfiles]"
   ]
  },
  {
   "cell_type": "markdown",
   "metadata": {},
   "source": [
    "## Raza"
   ]
  },
  {
   "cell_type": "code",
   "execution_count": 16,
   "metadata": {},
   "outputs": [
    {
     "data": {
      "text/plain": [
       "array([[0., 1., 0., 0., 0.],\n",
       "       [0., 0., 0., 1., 0.],\n",
       "       [1., 0., 0., 0., 0.],\n",
       "       [0., 1., 0., 0., 0.],\n",
       "       [1., 0., 0., 0., 0.]], dtype=float32)"
      ]
     },
     "execution_count": 16,
     "metadata": {},
     "output_type": "execute_result"
    }
   ],
   "source": [
    "#creación de grupos por r\n",
    "\n",
    "categorical_labels_race = to_categorical(race, num_classes=5)\n",
    "categorical_labels_race[:5]\n",
    "\n"
   ]
  },
  {
   "cell_type": "code",
   "execution_count": 20,
   "metadata": {},
   "outputs": [],
   "source": [
    "np.save(r'../data/04_data_array/categorical_labels_race.npy', categorical_labels_race)"
   ]
  },
  {
   "cell_type": "markdown",
   "metadata": {},
   "source": [
    "## Edad"
   ]
  },
  {
   "cell_type": "code",
   "execution_count": 21,
   "metadata": {},
   "outputs": [
    {
     "data": {
      "text/plain": [
       "array([[0., 0., 0., 1., 0.],\n",
       "       [0., 0., 1., 0., 0.],\n",
       "       [0., 0., 1., 0., 0.],\n",
       "       [0., 1., 0., 0., 0.],\n",
       "       [0., 0., 0., 0., 1.]], dtype=float32)"
      ]
     },
     "execution_count": 21,
     "metadata": {},
     "output_type": "execute_result"
    }
   ],
   "source": [
    "#creación de grupos por edad en fucnion de lso percentiles calculados en el EDA\n",
    "\n",
    "classes = []\n",
    "for i in age:\n",
    "    i = int(i)\n",
    "    if i <= 19:\n",
    "        classes.append(0)\n",
    "    if (i>19) and (i<=26):\n",
    "        classes.append(1)\n",
    "    if (i>26) and (i<34):\n",
    "        classes.append(2)\n",
    "    if (i>=34) and (i<50):\n",
    "        classes.append(3)\n",
    "    if i>=50:\n",
    "        classes.append(4)\n",
    "        \n",
    "categorical_labels_age = to_categorical(classes, num_classes=5)\n",
    "categorical_labels_age[:5]\n"
   ]
  },
  {
   "cell_type": "code",
   "execution_count": 23,
   "metadata": {},
   "outputs": [],
   "source": [
    "np.save('../data/04_data_array/categorical_labels_age.npy', categorical_labels_age)"
   ]
  },
  {
   "cell_type": "markdown",
   "metadata": {},
   "source": [
    "## Gender"
   ]
  },
  {
   "cell_type": "code",
   "execution_count": 24,
   "metadata": {},
   "outputs": [
    {
     "data": {
      "text/plain": [
       "array([[0., 1.],\n",
       "       [0., 1.],\n",
       "       [1., 0.],\n",
       "       [0., 1.],\n",
       "       [1., 0.]], dtype=float32)"
      ]
     },
     "execution_count": 24,
     "metadata": {},
     "output_type": "execute_result"
    }
   ],
   "source": [
    "#creación de grupos por r\n",
    "\n",
    "categorical_labels_gender = to_categorical(gender, num_classes=2)\n",
    "categorical_labels_gender[:5]\n",
    "\n"
   ]
  },
  {
   "cell_type": "code",
   "execution_count": 25,
   "metadata": {},
   "outputs": [],
   "source": [
    "np.save('../data/04_data_array/categorical_labels_gender.npy', categorical_labels_gender)"
   ]
  },
  {
   "cell_type": "markdown",
   "metadata": {},
   "source": [
    "# Prepocessing RGB\n",
    "\n",
    "\n",
    "El primer paso será importar las imágenes es escala de grises y transformalas a un tamaño de 32 x 32 píxeles."
   ]
  },
  {
   "cell_type": "code",
   "execution_count": 39,
   "metadata": {},
   "outputs": [],
   "source": [
    "X_data =[]\n",
    "\n",
    "for file in onlyfiles:\n",
    "    face = cv2.imread(file) # importacion de imágenes   \n",
    "    face = cv2.resize(face, (32, 32) ) # reducción y estandarización del tamaño\n",
    "    X_data.append(face)  # añadimos cada imagen a la variable"
   ]
  },
  {
   "cell_type": "code",
   "execution_count": 40,
   "metadata": {},
   "outputs": [
    {
     "name": "stdout",
     "output_type": "stream",
     "text": [
      "(Numero de imágenes, Pixeles altura, Píxeles anchura, Dimensión):  (24099, 32, 32, 3)\n"
     ]
    }
   ],
   "source": [
    "# Transformación del píxeles en valores numéricos\n",
    "\n",
    "X = np.squeeze(X_data)\n",
    "print( \"(Numero de imágenes, Pixeles altura, Píxeles anchura, Dimensión): \", X.shape) # comprobacion del tamaño"
   ]
  },
  {
   "cell_type": "markdown",
   "metadata": {},
   "source": [
    "La normalización de las imagenes se produce dividiendo cada valor del array entre 255 puesto que ese número es el mayor valor que puede tener un píxel en una imagen transformada a array."
   ]
  },
  {
   "cell_type": "code",
   "execution_count": 41,
   "metadata": {},
   "outputs": [],
   "source": [
    "# Normalización\n",
    "\n",
    "X = X.astype('float32')\n",
    "X /= 255 "
   ]
  },
  {
   "cell_type": "code",
   "execution_count": 44,
   "metadata": {},
   "outputs": [],
   "source": [
    "from numpy import savetxt\n",
    "\n",
    "\n",
    "# define data\n",
    "\n",
    "data_32_32_rgb = X\n",
    "\n",
    "# guardamos las imagenes en array para mayor velocidad de carga en los mdoelos\n",
    "\n",
    "np.save('../data/04_data_array/data_32_32_rgb.npy', data_32_32_rgb)\n",
    "\n"
   ]
  },
  {
   "cell_type": "markdown",
   "metadata": {},
   "source": [
    "# Prepocessing 128x128\n"
   ]
  },
  {
   "cell_type": "code",
   "execution_count": 28,
   "metadata": {},
   "outputs": [],
   "source": [
    "X_data =[]\n",
    "\n",
    "for file in onlyfiles:\n",
    "    face = cv2.imread(file) # importacion de imágenes   \n",
    "    face = cv2.resize(face, (128, 128) ) # reducción y estandarización del tamaño\n",
    "    X_data.append(face)  # añadimos cada imagen a la variable"
   ]
  },
  {
   "cell_type": "code",
   "execution_count": 29,
   "metadata": {},
   "outputs": [
    {
     "name": "stdout",
     "output_type": "stream",
     "text": [
      "(Numero de imágenes, Pixeles altura, Píxeles anchura, Dimensión):  (24099, 128, 128, 3)\n"
     ]
    }
   ],
   "source": [
    "# Transformación del píxeles en valores numéricos\n",
    "\n",
    "X = np.squeeze(X_data)\n",
    "print( \"(Numero de imágenes, Pixeles altura, Píxeles anchura, Dimensión): \", X.shape) # comprobacion del tamaño"
   ]
  },
  {
   "cell_type": "code",
   "execution_count": 30,
   "metadata": {},
   "outputs": [],
   "source": [
    "# Normalización\n",
    "\n",
    "X = X.astype('float32')\n",
    "X /= 255 "
   ]
  },
  {
   "cell_type": "code",
   "execution_count": 34,
   "metadata": {},
   "outputs": [],
   "source": [
    "\n",
    "\n",
    "# define data\n",
    "data_128_128_rgb = X\n",
    "\n",
    "# save file\n",
    "\n",
    "np.save('../data/04_data_array/data_128_128_rgb.npy', data_128_128_rgb)\n",
    "\n"
   ]
  }
 ],
 "metadata": {
  "kernelspec": {
   "display_name": "Python 3",
   "language": "python",
   "name": "python3"
  },
  "language_info": {
   "codemirror_mode": {
    "name": "ipython",
    "version": 3
   },
   "file_extension": ".py",
   "mimetype": "text/x-python",
   "name": "python",
   "nbconvert_exporter": "python",
   "pygments_lexer": "ipython3",
   "version": "3.8.5"
  }
 },
 "nbformat": 4,
 "nbformat_minor": 4
}
